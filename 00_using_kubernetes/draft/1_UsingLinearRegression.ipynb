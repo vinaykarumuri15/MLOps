{
 "cells": [
  {
   "cell_type": "code",
   "execution_count": null,
   "id": "8d229706-6cbe-4c4b-999e-84b4191b3c0b",
   "metadata": {},
   "outputs": [],
   "source": [
    "# Using Linear Regression Alogrithm [Quadratic Equation of Striaght Line - y = mx + c]\n",
    "# m - how close straight line close to X axis\n",
    "# C - At what point straight line intercepts your Y axis"
   ]
  },
  {
   "cell_type": "code",
   "execution_count": null,
   "id": "141125df-b1b1-4c92-a5ff-b56ec00f0e9e",
   "metadata": {},
   "outputs": [],
   "source": [
    "#!pip install scikit-learn"
   ]
  },
  {
   "cell_type": "code",
   "execution_count": 1,
   "id": "03a62634-40d8-4446-9ac5-f2b281006d4f",
   "metadata": {},
   "outputs": [],
   "source": [
    "import numpy as np\n",
    "from sklearn.linear_model import LinearRegression"
   ]
  },
  {
   "cell_type": "code",
   "execution_count": 2,
   "id": "a2b33257-97b0-4432-a4e3-4268b00c3389",
   "metadata": {},
   "outputs": [],
   "source": [
    "# X - Features and y - Label\n",
    "X = np.array(\n",
    "             [[1, 1], \n",
    "              [1, 2], \n",
    "              [2, 2], \n",
    "              [2, 3]]\n",
    "            )\n",
    "\n",
    "y = np.dot(X, np.array([1, 2])) + 3"
   ]
  },
  {
   "cell_type": "code",
   "execution_count": 5,
   "id": "ad76625f-3654-474c-8442-a26a9b44f9e8",
   "metadata": {},
   "outputs": [],
   "source": [
    "lr = LinearRegression()"
   ]
  },
  {
   "cell_type": "code",
   "execution_count": 6,
   "id": "f996b7b0-4377-438a-83a3-5d315bbade98",
   "metadata": {},
   "outputs": [],
   "source": [
    "model = lr.fit(X,y)"
   ]
  },
  {
   "cell_type": "code",
   "execution_count": 11,
   "id": "be7f868e-634c-48b1-abfb-1ddd4ea12a29",
   "metadata": {},
   "outputs": [
    {
     "name": "stdout",
     "output_type": "stream",
     "text": [
      "The Predicted value for Features with 100 and 200 [503.]\n"
     ]
    }
   ],
   "source": [
    "print(\"The Predicted value for Features with 100 and 200\",model.predict(np.array([[100, 200]])))"
   ]
  },
  {
   "cell_type": "code",
   "execution_count": 10,
   "id": "9ce10571-a541-44b0-b78e-a16b46b594ce",
   "metadata": {},
   "outputs": [
    {
     "name": "stdout",
     "output_type": "stream",
     "text": [
      "Slope for the Straight Line [1. 2.]\n",
      "Intercept for the Straight Line 3.0000000000000018\n"
     ]
    }
   ],
   "source": [
    "m = model.coef_\n",
    "C = model.intercept_\n",
    "print(\"Slope for the Straight Line\",m)\n",
    "print(\"Intercept for the Straight Line\",C)"
   ]
  },
  {
   "cell_type": "code",
   "execution_count": null,
   "id": "648cc4f1-9857-46da-9174-dde877825ca1",
   "metadata": {},
   "outputs": [],
   "source": [
    "y = (1 * X0 ) + (2 * X1) + 3"
   ]
  }
 ],
 "metadata": {
  "kernelspec": {
   "display_name": "Python 3 (ipykernel)",
   "language": "python",
   "name": "python3"
  },
  "language_info": {
   "codemirror_mode": {
    "name": "ipython",
    "version": 3
   },
   "file_extension": ".py",
   "mimetype": "text/x-python",
   "name": "python",
   "nbconvert_exporter": "python",
   "pygments_lexer": "ipython3",
   "version": "3.13.2"
  }
 },
 "nbformat": 4,
 "nbformat_minor": 5
}
