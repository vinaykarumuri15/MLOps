{
 "cells": [
  {
   "cell_type": "code",
   "execution_count": 6,
   "id": "3264312a-a8b9-47d9-a55b-a881222fa2a0",
   "metadata": {},
   "outputs": [],
   "source": [
    "from kfp import compiler, dsl"
   ]
  },
  {
   "cell_type": "code",
   "execution_count": 7,
   "id": "cbbb3909-d2cb-4b01-aa84-e59eca978aec",
   "metadata": {},
   "outputs": [],
   "source": [
    "@dsl.component\n",
    "def num_add(a: int, b: int) -> int:\n",
    "    return a + b\n",
    "\n",
    "@dsl.component\n",
    "def num_sub(c: int, d: int) -> int:\n",
    "    return c - d\n",
    "\n",
    "@dsl.component\n",
    "def num_mul(e: int, f: int) -> int:\n",
    "    return e * f"
   ]
  },
  {
   "cell_type": "code",
   "execution_count": 8,
   "id": "04a0648f-69a6-441f-959e-27424531e44c",
   "metadata": {},
   "outputs": [],
   "source": [
    "@dsl.pipeline\n",
    "def num_pipeline() -> int:\n",
    "    task1 = num_add(a=1,b=2)\n",
    "    task2 = num_sub(c=4,d=5)\n",
    "    complete_task = num_mul(e = task1.output, f = task2.output)\n",
    "    return complete_task.output"
   ]
  },
  {
   "cell_type": "code",
   "execution_count": 9,
   "id": "a2351972-4c03-476a-b892-cb8f3109790f",
   "metadata": {},
   "outputs": [],
   "source": [
    "compiler.Compiler().compile(num_pipeline, package_path='num-pipeline.yaml')"
   ]
  },
  {
   "cell_type": "code",
   "execution_count": null,
   "id": "fa8a500c-18c7-4420-8322-ddae1b606c15",
   "metadata": {},
   "outputs": [],
   "source": []
  }
 ],
 "metadata": {
  "kernelspec": {
   "display_name": "Python 3 (ipykernel)",
   "language": "python",
   "name": "python3"
  },
  "language_info": {
   "codemirror_mode": {
    "name": "ipython",
    "version": 3
   },
   "file_extension": ".py",
   "mimetype": "text/x-python",
   "name": "python",
   "nbconvert_exporter": "python",
   "pygments_lexer": "ipython3",
   "version": "3.13.2"
  }
 },
 "nbformat": 4,
 "nbformat_minor": 5
}
